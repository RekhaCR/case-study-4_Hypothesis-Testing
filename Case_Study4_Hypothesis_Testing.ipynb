{
  "nbformat": 4,
  "nbformat_minor": 0,
  "metadata": {
    "colab": {
      "name": "Case Study4_Hypothesis Testing",
      "provenance": [],
      "collapsed_sections": []
    },
    "kernelspec": {
      "name": "python3",
      "display_name": "Python 3"
    },
    "language_info": {
      "name": "python"
    }
  },
  "cells": [
    {
      "cell_type": "markdown",
      "metadata": {
        "id": "TwDEVkSs9gu4"
      },
      "source": [
        ""
      ]
    },
    {
      "cell_type": "code",
      "metadata": {
        "id": "Rv7Q3TqYLEz_"
      },
      "source": [
        "# import all libraries required\n",
        "import pandas as pd\n",
        "import numpy as np\n",
        "import matplotlib.pyplot as plt\n",
        "import seaborn as sns\n",
        "from numpy import percentile\n",
        "from scipy import stats"
      ],
      "execution_count": 2,
      "outputs": []
    },
    {
      "cell_type": "code",
      "metadata": {
        "colab": {
          "base_uri": "https://localhost:8080/"
        },
        "id": "HnD5eRDJ6X0t",
        "outputId": "581b46c5-098b-4376-9633-9bf4b82acdfc"
      },
      "source": [
        "from google.colab import drive\n",
        "drive.mount('/content/drive')"
      ],
      "execution_count": 3,
      "outputs": [
        {
          "output_type": "stream",
          "name": "stdout",
          "text": [
            "Mounted at /content/drive\n"
          ]
        }
      ]
    },
    {
      "cell_type": "code",
      "metadata": {
        "id": "io_eqgBzWyg-",
        "colab": {
          "base_uri": "https://localhost:8080/",
          "height": 739
        },
        "outputId": "9e02c7ff-899e-434e-a91a-eddfe0a6bbf8"
      },
      "source": [
        "#Load the csv files into pandas dataframe\n",
        "Salesdata=pd.read_csv('/content/drive/My Drive/Colab Notebooks/Sales_add.csv')\n",
        "#Display the dataset\n",
        "Salesdata\n",
        "\n",
        "\n"
      ],
      "execution_count": 4,
      "outputs": [
        {
          "output_type": "execute_result",
          "data": {
            "text/html": [
              "<div>\n",
              "<style scoped>\n",
              "    .dataframe tbody tr th:only-of-type {\n",
              "        vertical-align: middle;\n",
              "    }\n",
              "\n",
              "    .dataframe tbody tr th {\n",
              "        vertical-align: top;\n",
              "    }\n",
              "\n",
              "    .dataframe thead th {\n",
              "        text-align: right;\n",
              "    }\n",
              "</style>\n",
              "<table border=\"1\" class=\"dataframe\">\n",
              "  <thead>\n",
              "    <tr style=\"text-align: right;\">\n",
              "      <th></th>\n",
              "      <th>Month</th>\n",
              "      <th>Region</th>\n",
              "      <th>Manager</th>\n",
              "      <th>Sales_before_digital_add(in $)</th>\n",
              "      <th>Sales_After_digital_add(in $)</th>\n",
              "    </tr>\n",
              "  </thead>\n",
              "  <tbody>\n",
              "    <tr>\n",
              "      <th>0</th>\n",
              "      <td>Month-1</td>\n",
              "      <td>Region - A</td>\n",
              "      <td>Manager - A</td>\n",
              "      <td>132921</td>\n",
              "      <td>270390</td>\n",
              "    </tr>\n",
              "    <tr>\n",
              "      <th>1</th>\n",
              "      <td>Month-2</td>\n",
              "      <td>Region - A</td>\n",
              "      <td>Manager - C</td>\n",
              "      <td>149559</td>\n",
              "      <td>223334</td>\n",
              "    </tr>\n",
              "    <tr>\n",
              "      <th>2</th>\n",
              "      <td>Month-3</td>\n",
              "      <td>Region - B</td>\n",
              "      <td>Manager - A</td>\n",
              "      <td>146278</td>\n",
              "      <td>244243</td>\n",
              "    </tr>\n",
              "    <tr>\n",
              "      <th>3</th>\n",
              "      <td>Month-4</td>\n",
              "      <td>Region - B</td>\n",
              "      <td>Manager - B</td>\n",
              "      <td>152167</td>\n",
              "      <td>231808</td>\n",
              "    </tr>\n",
              "    <tr>\n",
              "      <th>4</th>\n",
              "      <td>Month-5</td>\n",
              "      <td>Region - C</td>\n",
              "      <td>Manager - B</td>\n",
              "      <td>159525</td>\n",
              "      <td>258402</td>\n",
              "    </tr>\n",
              "    <tr>\n",
              "      <th>5</th>\n",
              "      <td>Month-6</td>\n",
              "      <td>Region - A</td>\n",
              "      <td>Manager - B</td>\n",
              "      <td>137163</td>\n",
              "      <td>256948</td>\n",
              "    </tr>\n",
              "    <tr>\n",
              "      <th>6</th>\n",
              "      <td>Month-7</td>\n",
              "      <td>Region - C</td>\n",
              "      <td>Manager - C</td>\n",
              "      <td>130625</td>\n",
              "      <td>222106</td>\n",
              "    </tr>\n",
              "    <tr>\n",
              "      <th>7</th>\n",
              "      <td>Month-8</td>\n",
              "      <td>Region - A</td>\n",
              "      <td>Manager - A</td>\n",
              "      <td>131140</td>\n",
              "      <td>230637</td>\n",
              "    </tr>\n",
              "    <tr>\n",
              "      <th>8</th>\n",
              "      <td>Month-9</td>\n",
              "      <td>Region - B</td>\n",
              "      <td>Manager - C</td>\n",
              "      <td>171259</td>\n",
              "      <td>226261</td>\n",
              "    </tr>\n",
              "    <tr>\n",
              "      <th>9</th>\n",
              "      <td>Month-10</td>\n",
              "      <td>Region - C</td>\n",
              "      <td>Manager - B</td>\n",
              "      <td>141956</td>\n",
              "      <td>193735</td>\n",
              "    </tr>\n",
              "    <tr>\n",
              "      <th>10</th>\n",
              "      <td>Month-11</td>\n",
              "      <td>Region - B</td>\n",
              "      <td>Manager - C</td>\n",
              "      <td>159339</td>\n",
              "      <td>203175</td>\n",
              "    </tr>\n",
              "    <tr>\n",
              "      <th>11</th>\n",
              "      <td>Month-12</td>\n",
              "      <td>Region - A</td>\n",
              "      <td>Manager - A</td>\n",
              "      <td>178939</td>\n",
              "      <td>276279</td>\n",
              "    </tr>\n",
              "    <tr>\n",
              "      <th>12</th>\n",
              "      <td>Month-13</td>\n",
              "      <td>Region - B</td>\n",
              "      <td>Manager - A</td>\n",
              "      <td>145062</td>\n",
              "      <td>205180</td>\n",
              "    </tr>\n",
              "    <tr>\n",
              "      <th>13</th>\n",
              "      <td>Month-14</td>\n",
              "      <td>Region - A</td>\n",
              "      <td>Manager - A</td>\n",
              "      <td>151514</td>\n",
              "      <td>253131</td>\n",
              "    </tr>\n",
              "    <tr>\n",
              "      <th>14</th>\n",
              "      <td>Month-15</td>\n",
              "      <td>Region - C</td>\n",
              "      <td>Manager - A</td>\n",
              "      <td>147463</td>\n",
              "      <td>229336</td>\n",
              "    </tr>\n",
              "    <tr>\n",
              "      <th>15</th>\n",
              "      <td>Month-16</td>\n",
              "      <td>Region - A</td>\n",
              "      <td>Manager - B</td>\n",
              "      <td>177195</td>\n",
              "      <td>187305</td>\n",
              "    </tr>\n",
              "    <tr>\n",
              "      <th>16</th>\n",
              "      <td>Month-17</td>\n",
              "      <td>Region - A</td>\n",
              "      <td>Manager - C</td>\n",
              "      <td>140862</td>\n",
              "      <td>234908</td>\n",
              "    </tr>\n",
              "    <tr>\n",
              "      <th>17</th>\n",
              "      <td>Month-18</td>\n",
              "      <td>Region - C</td>\n",
              "      <td>Manager - B</td>\n",
              "      <td>167996</td>\n",
              "      <td>191517</td>\n",
              "    </tr>\n",
              "    <tr>\n",
              "      <th>18</th>\n",
              "      <td>Month-19</td>\n",
              "      <td>Region - B</td>\n",
              "      <td>Manager - A</td>\n",
              "      <td>132135</td>\n",
              "      <td>227040</td>\n",
              "    </tr>\n",
              "    <tr>\n",
              "      <th>19</th>\n",
              "      <td>Month-20</td>\n",
              "      <td>Region - A</td>\n",
              "      <td>Manager - B</td>\n",
              "      <td>152493</td>\n",
              "      <td>212579</td>\n",
              "    </tr>\n",
              "    <tr>\n",
              "      <th>20</th>\n",
              "      <td>Month-21</td>\n",
              "      <td>Region - B</td>\n",
              "      <td>Manager - A</td>\n",
              "      <td>147425</td>\n",
              "      <td>263388</td>\n",
              "    </tr>\n",
              "    <tr>\n",
              "      <th>21</th>\n",
              "      <td>Month-22</td>\n",
              "      <td>Region - A</td>\n",
              "      <td>Manager - C</td>\n",
              "      <td>130263</td>\n",
              "      <td>243020</td>\n",
              "    </tr>\n",
              "  </tbody>\n",
              "</table>\n",
              "</div>"
            ],
            "text/plain": [
              "       Month  ... Sales_After_digital_add(in $)\n",
              "0    Month-1  ...                        270390\n",
              "1    Month-2  ...                        223334\n",
              "2    Month-3  ...                        244243\n",
              "3    Month-4  ...                        231808\n",
              "4    Month-5  ...                        258402\n",
              "5    Month-6  ...                        256948\n",
              "6    Month-7  ...                        222106\n",
              "7    Month-8  ...                        230637\n",
              "8    Month-9  ...                        226261\n",
              "9   Month-10  ...                        193735\n",
              "10  Month-11  ...                        203175\n",
              "11  Month-12  ...                        276279\n",
              "12  Month-13  ...                        205180\n",
              "13  Month-14  ...                        253131\n",
              "14  Month-15  ...                        229336\n",
              "15  Month-16  ...                        187305\n",
              "16  Month-17  ...                        234908\n",
              "17  Month-18  ...                        191517\n",
              "18  Month-19  ...                        227040\n",
              "19  Month-20  ...                        212579\n",
              "20  Month-21  ...                        263388\n",
              "21  Month-22  ...                        243020\n",
              "\n",
              "[22 rows x 5 columns]"
            ]
          },
          "metadata": {},
          "execution_count": 4
        }
      ]
    },
    {
      "cell_type": "code",
      "metadata": {
        "colab": {
          "base_uri": "https://localhost:8080/"
        },
        "id": "Q5BOP4TM63Ab",
        "outputId": "3dde44ee-d47f-419f-bbaf-55bae86b8530"
      },
      "source": [
        "#Summary of the dataset\n",
        "Salesdata.info()"
      ],
      "execution_count": 5,
      "outputs": [
        {
          "output_type": "stream",
          "name": "stdout",
          "text": [
            "<class 'pandas.core.frame.DataFrame'>\n",
            "RangeIndex: 22 entries, 0 to 21\n",
            "Data columns (total 5 columns):\n",
            " #   Column                          Non-Null Count  Dtype \n",
            "---  ------                          --------------  ----- \n",
            " 0   Month                           22 non-null     object\n",
            " 1   Region                          22 non-null     object\n",
            " 2   Manager                         22 non-null     object\n",
            " 3   Sales_before_digital_add(in $)  22 non-null     int64 \n",
            " 4   Sales_After_digital_add(in $)   22 non-null     int64 \n",
            "dtypes: int64(2), object(3)\n",
            "memory usage: 1008.0+ bytes\n"
          ]
        }
      ]
    },
    {
      "cell_type": "markdown",
      "source": [
        "**The summary of the dataset shows that there are 22 entries and 5 features**\n"
      ],
      "metadata": {
        "id": "j-meZW7fp-37"
      }
    },
    {
      "cell_type": "code",
      "metadata": {
        "colab": {
          "base_uri": "https://localhost:8080/"
        },
        "id": "yGJla9CZWBiy",
        "outputId": "9d850d33-3181-4b35-99cc-508a7dd4f5f8"
      },
      "source": [
        "# Calculating the null values present in each column of the dataset\n",
        "Salesdata.isna().sum() # or StudentsPerformance.isnull().sum() "
      ],
      "execution_count": 7,
      "outputs": [
        {
          "output_type": "execute_result",
          "data": {
            "text/plain": [
              "Month                             0\n",
              "Region                            0\n",
              "Manager                           0\n",
              "Sales_before_digital_add(in $)    0\n",
              "Sales_After_digital_add(in $)     0\n",
              "dtype: int64"
            ]
          },
          "metadata": {},
          "execution_count": 7
        }
      ]
    },
    {
      "cell_type": "markdown",
      "metadata": {
        "id": "0zYsG7a2Dty3"
      },
      "source": [
        "**No missing values are present in the dataset**\n",
        "\n",
        "\n"
      ]
    },
    {
      "cell_type": "code",
      "metadata": {
        "colab": {
          "base_uri": "https://localhost:8080/",
          "height": 112
        },
        "id": "HCTygDTTsu_m",
        "outputId": "d4f9b9cc-563b-4dc7-c85d-3d5522f8d5f0"
      },
      "source": [
        "#Statistical description of the given dataset\n",
        "Salesdata.describe().T"
      ],
      "execution_count": 8,
      "outputs": [
        {
          "output_type": "execute_result",
          "data": {
            "text/html": [
              "<div>\n",
              "<style scoped>\n",
              "    .dataframe tbody tr th:only-of-type {\n",
              "        vertical-align: middle;\n",
              "    }\n",
              "\n",
              "    .dataframe tbody tr th {\n",
              "        vertical-align: top;\n",
              "    }\n",
              "\n",
              "    .dataframe thead th {\n",
              "        text-align: right;\n",
              "    }\n",
              "</style>\n",
              "<table border=\"1\" class=\"dataframe\">\n",
              "  <thead>\n",
              "    <tr style=\"text-align: right;\">\n",
              "      <th></th>\n",
              "      <th>count</th>\n",
              "      <th>mean</th>\n",
              "      <th>std</th>\n",
              "      <th>min</th>\n",
              "      <th>25%</th>\n",
              "      <th>50%</th>\n",
              "      <th>75%</th>\n",
              "      <th>max</th>\n",
              "    </tr>\n",
              "  </thead>\n",
              "  <tbody>\n",
              "    <tr>\n",
              "      <th>Sales_before_digital_add(in $)</th>\n",
              "      <td>22.0</td>\n",
              "      <td>149239.954545</td>\n",
              "      <td>14844.042921</td>\n",
              "      <td>130263.0</td>\n",
              "      <td>138087.75</td>\n",
              "      <td>147444.0</td>\n",
              "      <td>157627.5</td>\n",
              "      <td>178939.0</td>\n",
              "    </tr>\n",
              "    <tr>\n",
              "      <th>Sales_After_digital_add(in $)</th>\n",
              "      <td>22.0</td>\n",
              "      <td>231123.727273</td>\n",
              "      <td>25556.777061</td>\n",
              "      <td>187305.0</td>\n",
              "      <td>214960.75</td>\n",
              "      <td>229986.5</td>\n",
              "      <td>250909.0</td>\n",
              "      <td>276279.0</td>\n",
              "    </tr>\n",
              "  </tbody>\n",
              "</table>\n",
              "</div>"
            ],
            "text/plain": [
              "                                count           mean  ...       75%       max\n",
              "Sales_before_digital_add(in $)   22.0  149239.954545  ...  157627.5  178939.0\n",
              "Sales_After_digital_add(in $)    22.0  231123.727273  ...  250909.0  276279.0\n",
              "\n",
              "[2 rows x 8 columns]"
            ]
          },
          "metadata": {},
          "execution_count": 8
        }
      ]
    },
    {
      "cell_type": "markdown",
      "source": [
        "The statistical summary shows that the maximuma and minimum value of sales before digital add is 178939 and 130263 respectively. Again, maximum and minimum values of sales after digital add has increased and is 276279 ans 231123 respectively"
      ],
      "metadata": {
        "id": "7Euxz2n0D9hV"
      }
    },
    {
      "cell_type": "markdown",
      "source": [
        "**Qn.1 A company started to invest in digital marketing as a new way of their product\n",
        "promotions.For that they collected data and decided to carry out a study on it.\n",
        "● The company wishes to clarify whether there is any increase in sales after\n",
        "stepping into digital marketing.\n",
        "● The company needs to check whether there is any dependency between the\n",
        "features “Region” and “Manager”.\n",
        "Help the company to carry out their study with the help of data provided**\n"
      ],
      "metadata": {
        "id": "pZsFCoV3DVDH"
      }
    },
    {
      "cell_type": "markdown",
      "source": [
        "**The company wishes to clarify whether there is any increase in sales after \n",
        "stepping into digital marketing**"
      ],
      "metadata": {
        "id": "U11nogK9e5A4"
      }
    },
    {
      "cell_type": "markdown",
      "source": [
        "**Step1_Define the null hypothesis and alternative hypothesis:**\n",
        "\n",
        "(Null hypothesis,H0):sales are increasing after stepping into digital marketing \n",
        "\n",
        "(Alternate hypothesis,Ha): Sales are not increasing after stepping into digital marketing.\n",
        "\n",
        "\n",
        "\n"
      ],
      "metadata": {
        "id": "SC-ggx4cnOEQ"
      }
    },
    {
      "cell_type": "markdown",
      "source": [
        "**Step2_Set the criteria for a decision**\n",
        "We can assume it as 0.05 if it is not given in the problem\n"
      ],
      "metadata": {
        "id": "JC1Oa8cEDNGf"
      }
    },
    {
      "cell_type": "code",
      "source": [
        "Sbd=Salesdata['Sales_before_digital_add(in $)']  # Assigning variable to sales before add (sbd)\n",
        "Sad=Salesdata['Sales_After_digital_add(in $)']   # Assigning variable to sales after  add (sad)"
      ],
      "metadata": {
        "id": "Cj6HVYn-Gs27"
      },
      "execution_count": 9,
      "outputs": []
    },
    {
      "cell_type": "code",
      "source": [
        "Sbd # Disaply the values of sales before add"
      ],
      "metadata": {
        "colab": {
          "base_uri": "https://localhost:8080/"
        },
        "id": "Eaqw912FJoWR",
        "outputId": "2edf623f-f7c4-417b-9185-9177067dca11"
      },
      "execution_count": 11,
      "outputs": [
        {
          "output_type": "execute_result",
          "data": {
            "text/plain": [
              "0     132921\n",
              "1     149559\n",
              "2     146278\n",
              "3     152167\n",
              "4     159525\n",
              "5     137163\n",
              "6     130625\n",
              "7     131140\n",
              "8     171259\n",
              "9     141956\n",
              "10    159339\n",
              "11    178939\n",
              "12    145062\n",
              "13    151514\n",
              "14    147463\n",
              "15    177195\n",
              "16    140862\n",
              "17    167996\n",
              "18    132135\n",
              "19    152493\n",
              "20    147425\n",
              "21    130263\n",
              "Name: Sales_before_digital_add(in $), dtype: int64"
            ]
          },
          "metadata": {},
          "execution_count": 11
        }
      ]
    },
    {
      "cell_type": "code",
      "source": [
        "Sad       # Display the values of sales after add"
      ],
      "metadata": {
        "colab": {
          "base_uri": "https://localhost:8080/"
        },
        "id": "DhFvCAWfJtda",
        "outputId": "42ae826d-139d-4b4c-e141-f340f7512708"
      },
      "execution_count": 12,
      "outputs": [
        {
          "output_type": "execute_result",
          "data": {
            "text/plain": [
              "0     270390\n",
              "1     223334\n",
              "2     244243\n",
              "3     231808\n",
              "4     258402\n",
              "5     256948\n",
              "6     222106\n",
              "7     230637\n",
              "8     226261\n",
              "9     193735\n",
              "10    203175\n",
              "11    276279\n",
              "12    205180\n",
              "13    253131\n",
              "14    229336\n",
              "15    187305\n",
              "16    234908\n",
              "17    191517\n",
              "18    227040\n",
              "19    212579\n",
              "20    263388\n",
              "21    243020\n",
              "Name: Sales_After_digital_add(in $), dtype: int64"
            ]
          },
          "metadata": {},
          "execution_count": 12
        }
      ]
    },
    {
      "cell_type": "code",
      "source": [
        "tvalue, pvalue = stats.ttest_ind(Sbd,Sad)# Independence values of tvalue and pvalue for ttest\n",
        "stats.ttest_ind(Sbd,Sad)\n",
        "tvalue,pvalue"
      ],
      "metadata": {
        "colab": {
          "base_uri": "https://localhost:8080/"
        },
        "id": "-E-_Fw1AJ-RE",
        "outputId": "913e4424-3eac-48f2-ab4a-800b99941bb1"
      },
      "execution_count": 47,
      "outputs": [
        {
          "output_type": "execute_result",
          "data": {
            "text/plain": [
              "(-12.995084451110877, 2.614368006904645e-16)"
            ]
          },
          "metadata": {},
          "execution_count": 47
        }
      ]
    },
    {
      "cell_type": "code",
      "source": [
        "tcriteria = stats.t.ppf(1-0.05,40)  \n",
        "tcriteria # 40 refers to the degrees of freedom"
      ],
      "metadata": {
        "colab": {
          "base_uri": "https://localhost:8080/"
        },
        "id": "guvCqSWPR_3R",
        "outputId": "94d22b92-c9a1-4cdb-e906-886d44a3738f"
      },
      "execution_count": 49,
      "outputs": [
        {
          "output_type": "execute_result",
          "data": {
            "text/plain": [
              "1.68385101138658"
            ]
          },
          "metadata": {},
          "execution_count": 49
        }
      ]
    },
    {
      "cell_type": "markdown",
      "source": [
        "**Step-4: Make Decision_ we need to compare p value with the level of significance value and if p is less than significance level, null hypothesis will be rejected**"
      ],
      "metadata": {
        "id": "O8ppYHcsW7xK"
      }
    },
    {
      "cell_type": "code",
      "source": [
        "if (tvalue>tcriteria and pvalue <0.05):\n",
        "    print('Reject null hypothesis:There is increase in sales after stepping to digital marketing')\n",
        "else:\n",
        "    print('Reject alternate hypothesis:There is no increase in sales after stepping to digital marketing')"
      ],
      "metadata": {
        "colab": {
          "base_uri": "https://localhost:8080/"
        },
        "id": "Hob3LM2XW6Ki",
        "outputId": "ef2c1a08-e93a-4ff9-bb53-681b619c6e85"
      },
      "execution_count": 50,
      "outputs": [
        {
          "output_type": "stream",
          "name": "stdout",
          "text": [
            "Reject alternate hypothesis:There is no increase in sales after stepping to digital marketing\n"
          ]
        }
      ]
    },
    {
      "cell_type": "markdown",
      "source": [
        " Since alternate hypothesis is rejected here, it is clear that **\"There is increse in sales after stepping to digital marketing\"**"
      ],
      "metadata": {
        "id": "I9D_X4lCXiVp"
      }
    },
    {
      "cell_type": "markdown",
      "source": [
        "**2.The company needs to check whether there is any dependency between the features “Region” and “Manager”**"
      ],
      "metadata": {
        "id": "sOopw9QHZZbg"
      }
    },
    {
      "cell_type": "markdown",
      "source": [
        "Define the null hypothesis and alternative hypothesis\n",
        "\n",
        "(Null hypothesis,H0):There is no dependency between the features \"Region\" and \"manager\"\n",
        "\n",
        "\n",
        " (Alternate hypothesis,Ha): There is  dependency between the features \"Region\" and \"Manager\""
      ],
      "metadata": {
        "id": "G-GwldJrbWjA"
      }
    },
    {
      "cell_type": "markdown",
      "source": [
        "**Since it is asked to find out a relationship between the features \"Region\" and \"Manager\", we need to perform Chi squre test**"
      ],
      "metadata": {
        "id": "09kBuzJ8cJa8"
      }
    },
    {
      "cell_type": "code",
      "source": [
        "Data=Salesdata.groupby('Region')['Manager'].value_counts().unstack()  #grouping variables to perform Chi square test\n",
        "Data"
      ],
      "metadata": {
        "colab": {
          "base_uri": "https://localhost:8080/",
          "height": 174
        },
        "id": "hjPd07yuczJJ",
        "outputId": "b93469f3-d5fd-426b-9f16-6606a88c020c"
      },
      "execution_count": 52,
      "outputs": [
        {
          "output_type": "execute_result",
          "data": {
            "text/html": [
              "<div>\n",
              "<style scoped>\n",
              "    .dataframe tbody tr th:only-of-type {\n",
              "        vertical-align: middle;\n",
              "    }\n",
              "\n",
              "    .dataframe tbody tr th {\n",
              "        vertical-align: top;\n",
              "    }\n",
              "\n",
              "    .dataframe thead th {\n",
              "        text-align: right;\n",
              "    }\n",
              "</style>\n",
              "<table border=\"1\" class=\"dataframe\">\n",
              "  <thead>\n",
              "    <tr style=\"text-align: right;\">\n",
              "      <th>Manager</th>\n",
              "      <th>Manager - A</th>\n",
              "      <th>Manager - B</th>\n",
              "      <th>Manager - C</th>\n",
              "    </tr>\n",
              "    <tr>\n",
              "      <th>Region</th>\n",
              "      <th></th>\n",
              "      <th></th>\n",
              "      <th></th>\n",
              "    </tr>\n",
              "  </thead>\n",
              "  <tbody>\n",
              "    <tr>\n",
              "      <th>Region - A</th>\n",
              "      <td>4</td>\n",
              "      <td>3</td>\n",
              "      <td>3</td>\n",
              "    </tr>\n",
              "    <tr>\n",
              "      <th>Region - B</th>\n",
              "      <td>4</td>\n",
              "      <td>1</td>\n",
              "      <td>2</td>\n",
              "    </tr>\n",
              "    <tr>\n",
              "      <th>Region - C</th>\n",
              "      <td>1</td>\n",
              "      <td>3</td>\n",
              "      <td>1</td>\n",
              "    </tr>\n",
              "  </tbody>\n",
              "</table>\n",
              "</div>"
            ],
            "text/plain": [
              "Manager     Manager - A  Manager - B  Manager - C\n",
              "Region                                           \n",
              "Region - A            4            3            3\n",
              "Region - B            4            1            2\n",
              "Region - C            1            3            1"
            ]
          },
          "metadata": {},
          "execution_count": 52
        }
      ]
    },
    {
      "cell_type": "code",
      "source": [
        "chivalue,pvalue,dof,expvalues=stats.chi2_contingency(Data)  #Perform Chi square test of independence"
      ],
      "metadata": {
        "id": "7UE3BOyEhG6q"
      },
      "execution_count": 58,
      "outputs": []
    },
    {
      "cell_type": "code",
      "source": [
        "chivalue    # Test statistics_Chi Square"
      ],
      "metadata": {
        "colab": {
          "base_uri": "https://localhost:8080/"
        },
        "id": "5ylLyIFxh1VR",
        "outputId": "637239b2-8d9b-4864-df37-195bb9388505"
      },
      "execution_count": 60,
      "outputs": [
        {
          "output_type": "execute_result",
          "data": {
            "text/plain": [
              "3.050566893424036"
            ]
          },
          "metadata": {},
          "execution_count": 60
        }
      ]
    },
    {
      "cell_type": "code",
      "source": [
        "pvalue  #p value of test data"
      ],
      "metadata": {
        "colab": {
          "base_uri": "https://localhost:8080/"
        },
        "id": "aNjI03gwh6fI",
        "outputId": "9aa4749f-52b0-45a7-d905-cb41ecfe8979"
      },
      "execution_count": 61,
      "outputs": [
        {
          "output_type": "execute_result",
          "data": {
            "text/plain": [
              "0.5493991051158094"
            ]
          },
          "metadata": {},
          "execution_count": 61
        }
      ]
    },
    {
      "cell_type": "code",
      "source": [
        "dof #Degrees of freedom"
      ],
      "metadata": {
        "colab": {
          "base_uri": "https://localhost:8080/"
        },
        "id": "7NFtfq9oh8gI",
        "outputId": "bf036194-c376-456b-e1b2-27f05726ea89"
      },
      "execution_count": 62,
      "outputs": [
        {
          "output_type": "execute_result",
          "data": {
            "text/plain": [
              "4"
            ]
          },
          "metadata": {},
          "execution_count": 62
        }
      ]
    },
    {
      "cell_type": "code",
      "source": [
        "expvalues #expected observations"
      ],
      "metadata": {
        "colab": {
          "base_uri": "https://localhost:8080/"
        },
        "id": "KdU0raA7h-bK",
        "outputId": "9cedac4e-36bf-4bdd-b3a6-7aff2ca71233"
      },
      "execution_count": 64,
      "outputs": [
        {
          "output_type": "execute_result",
          "data": {
            "text/plain": [
              "array([[4.09090909, 3.18181818, 2.72727273],\n",
              "       [2.86363636, 2.22727273, 1.90909091],\n",
              "       [2.04545455, 1.59090909, 1.36363636]])"
            ]
          },
          "metadata": {},
          "execution_count": 64
        }
      ]
    },
    {
      "cell_type": "code",
      "source": [
        "chicriteria=stats.chi2.ppf(1-0.05,4) \n",
        "chicriteria     #Chi square criteria"
      ],
      "metadata": {
        "colab": {
          "base_uri": "https://localhost:8080/"
        },
        "id": "7fUL2MAfsl7a",
        "outputId": "6f28a160-1214-4a95-d86c-4929d0b08424"
      },
      "execution_count": 66,
      "outputs": [
        {
          "output_type": "execute_result",
          "data": {
            "text/plain": [
              "9.487729036781154"
            ]
          },
          "metadata": {},
          "execution_count": 66
        }
      ]
    },
    {
      "cell_type": "markdown",
      "source": [
        "**Checking Hypothesis**"
      ],
      "metadata": {
        "id": "sGJ3sF2Ds2za"
      }
    },
    {
      "cell_type": "code",
      "source": [
        "if(chivalue>chicriteria and pvalue<0.05):\n",
        "    print('Reject null hypothesis: There is no dependency between the features \"Region\" and \"manager\"')\n",
        "else:\n",
        "    print('Reject alternate hypothesis: There is dependency between the features \"Region\" and \"Manager\"')"
      ],
      "metadata": {
        "colab": {
          "base_uri": "https://localhost:8080/"
        },
        "id": "ztpUpH-bs8Ja",
        "outputId": "b787070c-e21b-4c42-c40a-a8d3522a3e10"
      },
      "execution_count": 71,
      "outputs": [
        {
          "output_type": "stream",
          "name": "stdout",
          "text": [
            "Reject alternate hypothesis: There is dependency between the features \"Region\" and \"Manager\"\n"
          ]
        }
      ]
    },
    {
      "cell_type": "markdown",
      "source": [
        "**Since alternate hypothesis is rejected it is inferred that **There is no dependency between the features \"Region\" and \"Manager\"**"
      ],
      "metadata": {
        "id": "12RGxi1_tgcq"
      }
    }
  ]
}